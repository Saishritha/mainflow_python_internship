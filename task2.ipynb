{
  "metadata": {
    "kernelspec": {
      "name": "python",
      "display_name": "Python (Pyodide)",
      "language": "python"
    },
    "language_info": {
      "codemirror_mode": {
        "name": "python",
        "version": 3
      },
      "file_extension": ".py",
      "mimetype": "text/x-python",
      "name": "python",
      "nbconvert_exporter": "python",
      "pygments_lexer": "ipython3",
      "version": "3.8"
    }
  },
  "nbformat_minor": 4,
  "nbformat": 4,
  "cells": [
    {
      "cell_type": "markdown",
      "source": "# 9. Prime Number:",
      "metadata": {}
    },
    {
      "cell_type": "code",
      "source": "num = int(input(\"Enter a number: \"))\nflag = False\nif num == 1:\n print(f\"{num}, is not a prime number\")\nelif num > 1:\n # check for factors\n    for i in range(2, num):\n        if (num % i) == 0:\n            flag = True     \n            break\n # check if flag is True\nif flag:\n print(f\"{num}, is not a prime number\")\nelse:\n print(f\"{num}, is a prime number\")",
      "metadata": {
        "trusted": true
      },
      "outputs": [
        {
          "output_type": "stream",
          "name": "stdin",
          "text": "Enter a number:  2\n"
        },
        {
          "name": "stdout",
          "output_type": "stream",
          "text": "2, is a prime number\n"
        }
      ],
      "execution_count": 12
    },
    {
      "cell_type": "markdown",
      "source": "# 10. Sum of Digits:",
      "metadata": {}
    },
    {
      "cell_type": "code",
      "source": "n=int(input(\"enter the number:\"))\naddition = sum(int(digit) for digit in str(abs(n))) #this adds the digits in th number,and abs(n) converts negative number into positive.\nprint(\"the sum of digits:\", addition)",
      "metadata": {
        "trusted": true
      },
      "outputs": [
        {
          "output_type": "stream",
          "name": "stdin",
          "text": "enter the number: 456\n"
        },
        {
          "name": "stdout",
          "output_type": "stream",
          "text": "the sum of digits: 15\n"
        }
      ],
      "execution_count": 15
    },
    {
      "cell_type": "markdown",
      "source": "# 11. LCM and GCD:",
      "metadata": {}
    },
    {
      "cell_type": "code",
      "source": "import math\na = int(input(\"enter the first number:\"))\nb = int(input(\"enter the second number:\"))\ngcd = math.gcd(a,b)#this calculates the gcd\nlcm = (a*b) // gcd\nprint(\"GCD of a,b is:\",gcd)\nprint(\"LCM of a,b is:\",lcm)",
      "metadata": {
        "trusted": true
      },
      "outputs": [
        {
          "output_type": "stream",
          "name": "stdin",
          "text": "enter the first number: 19\nenter the second number: 21\n"
        },
        {
          "name": "stdout",
          "output_type": "stream",
          "text": "GCD of a,b is: 1\nLCM of a,b is: 399\n"
        }
      ],
      "execution_count": 18
    },
    {
      "cell_type": "markdown",
      "source": "# 12. List Reversal:",
      "metadata": {}
    },
    {
      "cell_type": "code",
      "source": "list = [21,36,14,44,68]\nreverse = list[::-1]\nprint(reverse)",
      "metadata": {
        "trusted": true
      },
      "outputs": [
        {
          "name": "stdout",
          "output_type": "stream",
          "text": "[68, 44, 14, 36, 21]\n"
        }
      ],
      "execution_count": 22
    },
    {
      "cell_type": "markdown",
      "source": "# 13. Sort a List:",
      "metadata": {}
    },
    {
      "cell_type": "code",
      "source": "a = [12,6,22,38,46]\na.sort()\nprint(a)",
      "metadata": {
        "trusted": true
      },
      "outputs": [
        {
          "name": "stdout",
          "output_type": "stream",
          "text": "[6, 12, 22, 38, 46]\n"
        }
      ],
      "execution_count": 40
    },
    {
      "cell_type": "markdown",
      "source": "# 14.Remove Duplicates:",
      "metadata": {}
    },
    {
      "cell_type": "code",
      "source": "b = [5,6,7,6,2]\nremove = list(set(b))\nprint(remove)",
      "metadata": {
        "trusted": true
      },
      "outputs": [
        {
          "name": "stdout",
          "output_type": "stream",
          "text": "[2, 5, 6, 7]\n"
        }
      ],
      "execution_count": 2
    },
    {
      "cell_type": "markdown",
      "source": "# 15.String Length:",
      "metadata": {}
    },
    {
      "cell_type": "code",
      "source": "str = \"pythonprogramming\"\na =len(str)\nprint(a)",
      "metadata": {
        "trusted": true
      },
      "outputs": [
        {
          "name": "stdout",
          "output_type": "stream",
          "text": "17\n"
        }
      ],
      "execution_count": 8
    },
    {
      "cell_type": "markdown",
      "source": "# 14. Count Vowels and Consonants:",
      "metadata": {}
    },
    {
      "cell_type": "code",
      "source": "word = input(\"enter a string:\");\nvowels = set(\"a,e,i,o,u,A,E,I,O,U\")\nvowel_count = 0 #initial count of vowels\nconsonant_count = 0 #initial count of consonants\nfor char in word:\n    if char.isalpha(): #checks if it's letters or not\n        if char in vowels:\n            vowel_count += 1\n        else:\n            consonant_count += 1\nprint(\"vowels:\",vowel_count)\nprint(\"consonants:\",consonant_count)",
      "metadata": {
        "trusted": true
      },
      "outputs": [
        {
          "output_type": "stream",
          "name": "stdin",
          "text": "enter a string: vowelsandconsonants\n"
        },
        {
          "name": "stdout",
          "output_type": "stream",
          "text": "vowels: 6\nconsonants: 13\n"
        }
      ],
      "execution_count": 11
    },
    {
      "cell_type": "markdown",
      "source": "# 2.)Maze Generator and Solver:",
      "metadata": {}
    },
    {
      "cell_type": "code",
      "source": "import random\nfrom collections import deque\n\n# Maze size \nROWS, COLS = 21, 21\n\n# Create a maze filled with walls (1s)\nmaze = [[1 for _ in range(COLS)] for _ in range(ROWS)]\n\n# Directions: up, down, left, right\nDIRS = [(-2, 0), (2, 0), (0, -2), (0, 2)]\n\ndef is_valid(r, c):\n    return 0 < r < ROWS-1 and 0 < c < COLS-1\n\n# Maze Generation using DFS\ndef generate_maze(r, c):\n    maze[r][c] = 0\n    random.shuffle(DIRS)\n    for dr, dc in DIRS:\n        nr, nc = r + dr, c + dc\n        if is_valid(nr, nc) and maze[nr][nc] == 1:\n            maze[r + dr//2][c + dc//2] = 0  # Remove wall between\n            generate_maze(nr, nc)\n\n# Solve Maze using BFS\ndef solve_maze(start, end):\n    queue = deque()\n    queue.append((start, [start]))\n    visited = set()\n    visited.add(start)\n    \n    while queue:\n        (r, c), path = queue.popleft()\n        if (r, c) == end:\n            return path\n        \n        for dr, dc in [(-1,0), (1,0), (0,-1), (0,1)]:\n            nr, nc = r + dr, c + dc\n            if 0 <= nr < ROWS and 0 <= nc < COLS and maze[nr][nc] == 0 and (nr, nc) not in visited:\n                queue.append(((nr, nc), path + [(nr, nc)]))\n                visited.add((nr, nc))\n    return []\n\n# Generate and solve the maze\ngenerate_maze(1, 1)\npath = solve_maze((1, 1), (ROWS-2, COLS-2))\n\n# Mark the solution path\nfor r, c in path:\n    if (r, c) != (1, 1) and (r, c) != (ROWS-2, COLS-2):\n        maze[r][c] = 2  # Mark path with 2\n\nmaze[1][1] = 'S'\nmaze[ROWS-2][COLS-2] = 'E'\n\n# Print the maze\nfor row in maze:\n    print(''.join(\n        '█' if cell == 1 else\n        '.' if cell == 0 else\n        '*' if cell == 2 else\n        cell\n        for cell in row\n    ))",
      "metadata": {
        "trusted": true
      },
      "outputs": [
        {
          "name": "stdout",
          "output_type": "stream",
          "text": "█████████████████████\n█S█...............█.█\n█*█████.███████.█.█.█\n█***█.......█...█...█\n███*███████.█.███.█.█\n█.█*****█...█.█...█.█\n█.█████*█████.█████.█\n█......*****█.█...█.█\n███████████*█.█.█.███\n█.....█...█*█...█...█\n█.███.███.█*███████.█\n█.█.......█***█*****█\n█.███████████*█*███*█\n█...........█***█***█\n█.█.███████.█████*███\n█.█.█...█.█.█...█***█\n█.█.█.█.█.█.███.███*█\n█.█...█.█.......█***█\n█.█████.█████████*███\n█.....█..........**E█\n█████████████████████\n"
        }
      ],
      "execution_count": 13
    }
  ]
}