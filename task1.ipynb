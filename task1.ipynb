{
  "metadata": {
    "kernelspec": {
      "display_name": "Python (Pyodide)",
      "language": "python",
      "name": "python"
    },
    "language_info": {
      "codemirror_mode": {
        "name": "python",
        "version": 3
      },
      "file_extension": ".py",
      "mimetype": "text/x-python",
      "name": "python",
      "nbconvert_exporter": "python",
      "pygments_lexer": "ipython3",
      "version": "3.8"
    }
  },
  "nbformat_minor": 5,
  "nbformat": 4,
  "cells": [
    {
      "id": "560f7171-0de4-4dfd-8017-0e9c537222df",
      "cell_type": "code",
      "source": "a=int(input(\"enter the first integer:\")) #takes the input of first integer\nb=int(input(\"enter the seconnd integer:\")) #takes the input of second integer\nprint(a+b)",
      "metadata": {
        "trusted": true
      },
      "outputs": [
        {
          "output_type": "stream",
          "name": "stdin",
          "text": "enter the first integer: 3\nenter the seconnd integer: 4\n"
        },
        {
          "name": "stdout",
          "output_type": "stream",
          "text": "7\n"
        }
      ],
      "execution_count": 1
    },
    {
      "id": "499e6d49-449f-4690-9db2-3fae759f3239",
      "cell_type": "code",
      "source": "x=int(input(\"enter the integer:\")) #takes the input of the integer\nif x%2 == 0:\n    print(\"teven\")\nelse:\n    print(\"odd\")",
      "metadata": {
        "trusted": true
      },
      "outputs": [
        {
          "output_type": "stream",
          "name": "stdin",
          "text": "enter the integer: 3\n"
        },
        {
          "name": "stdout",
          "output_type": "stream",
          "text": "odd\n"
        }
      ],
      "execution_count": 15
    },
    {
      "id": "77b13ce7-0058-43e6-b281-83238df4f18a",
      "cell_type": "code",
      "source": "y = int(input(\"Enter a number: \"))\nfactorial = 1\n\nif y < 0:\n    print(\"Factorial does not exist for negative numbers\")\nelif y == 0:\n    print(\"the factorial of 0 is 1\")\nelse:\n    for i in range(1, y + 1):\n        factorial *= i\n    print(f\"the factorial of {y}! is {factorial}\")\n",
      "metadata": {
        "trusted": true
      },
      "outputs": [
        {
          "output_type": "stream",
          "name": "stdin",
          "text": "Enter a number:  5\n"
        },
        {
          "name": "stdout",
          "output_type": "stream",
          "text": "the factorial of 5! is 120\n"
        }
      ],
      "execution_count": 17
    },
    {
      "id": "f4bd7f3f-f803-48ca-8f27-fc4c1e2d315d",
      "cell_type": "code",
      "source": "terms=int(input(\"enter the number of terms:\"))\n#the first 2 terms\nn1 , n2 = 0 , 1\ncount =0\nif terms <= 0:\n    print(\"enter a positive integer\")\nelif terms == 1:\n    print(\"fibinocci sequence upto\",terms,\" is \")\nelse:\n    #generates fibonacci series\n    print(\"list of\",terms,\" fibonacci numbers:\")\n    while count < terms:\n        print(n1)\n        n = n1 + n2\n        n1 = n2\n        n2 = n\n        count += 1\n    \n          ",
      "metadata": {
        "trusted": true
      },
      "outputs": [
        {
          "output_type": "stream",
          "name": "stdin",
          "text": "enter the number of terms: 5\n"
        },
        {
          "name": "stdout",
          "output_type": "stream",
          "text": "list of 5  fibonacci numbers:\n0\n1\n1\n2\n3\n"
        }
      ],
      "execution_count": 21
    },
    {
      "id": "e17665fd-c829-458e-b68a-fa4a555ea450",
      "cell_type": "code",
      "source": "s = \"hellopython!\"\nrev = s[ ::-1]\nprint(rev)",
      "metadata": {
        "trusted": true
      },
      "outputs": [
        {
          "name": "stdout",
          "output_type": "stream",
          "text": "!nohtypolleh\n"
        }
      ],
      "execution_count": 24
    },
    {
      "id": "f1f7e599-c757-47c0-97c8-03f3e92528e8",
      "cell_type": "code",
      "source": "num = int(input(\"enter the number:\"))\noriginal = num\nreverse = 0\nwhile num > 0:\n   x = num % 10\n   reverse = reverse *10 + x\n   num = num // 10\nif original == reverse:\n    print(original,\"is palindrome\")\nelse:\n    print(original,\"is not a palindroome\")",
      "metadata": {
        "trusted": true
      },
      "outputs": [
        {
          "output_type": "stream",
          "name": "stdin",
          "text": "enter the number: 121\n"
        },
        {
          "name": "stdout",
          "output_type": "stream",
          "text": "121 is palindrome\n"
        }
      ],
      "execution_count": 30
    },
    {
      "id": "90dcd2c1-8f3e-480f-9ff9-5b4039f618e8",
      "cell_type": "code",
      "source": "year = int(input(\"Enter a year: \"))\nif (year % 4 == 0 and (year % 100 != 0 or year % 400 == 0)):\n    print(\"its a leap year\")\nelse:\n    print(\"its ot a leap year\")\n",
      "metadata": {
        "trusted": true
      },
      "outputs": [
        {
          "output_type": "stream",
          "name": "stdin",
          "text": "Enter a year:  2020\n"
        },
        {
          "name": "stdout",
          "output_type": "stream",
          "text": "its a leap year\n"
        }
      ],
      "execution_count": 35
    },
    {
      "id": "10f3e3eb-21c5-4371-b970-9463f49777db",
      "cell_type": "code",
      "source": "num = int(input(\"Enter a number: \"))\nsum = 0\ntemp = num\nn = len(str(num))  # Number of digits\nwhile temp > 0:\n    digit = temp % 10\n    sum += digit ** n\n    temp = temp // 10\nif sum == num:\n    print(\"is an armstrong number\")\nelse:\n    print(\"not an armstrong numberr\")\n",
      "metadata": {
        "trusted": true
      },
      "outputs": [
        {
          "output_type": "stream",
          "name": "stdin",
          "text": "Enter a number:  153\n"
        },
        {
          "name": "stdout",
          "output_type": "stream",
          "text": "is an armstrong number\n"
        }
      ],
      "execution_count": 37
    },
    {
      "id": "30a66b33-ee8b-4365-80a7-050fc8595f96",
      "cell_type": "code",
      "source": "#custom encrypted and decrypted message\ndef encrypt(message, shift):\n    encrypted = \"\"\n    for char in message:\n        if char.isalpha():\n            shift_base = ord('A') if char.isupper() else ord('a')\n            encrypted += chr((ord(char) - shift_base + shift) % 26 + shift_base)\n        else:\n            encrypted += char\n    return encrypted\ndef decrypt(encrypted_message, shift):\n    return encrypt(encrypted_message, -shift)\n# Sample message\ntext = \"python developer\"\nshift_key = 3\nencrypted_text = encrypt(text, shift_key)\ndecrypted_text = decrypt(encrypted_text, shift_key)\nprint(f\"Original  : {text}\")\nprint(f\"Encrypted : {encrypted_text}\")\nprint(f\"Decrypted : {decrypted_text}\")\n",
      "metadata": {
        "trusted": true
      },
      "outputs": [
        {
          "name": "stdout",
          "output_type": "stream",
          "text": "Original  : python developer\nEncrypted : sbwkrq ghyhorshu\nDecrypted : python developer\n"
        }
      ],
      "execution_count": 53
    },
    {
      "id": "e57fda1f-dabf-4a8a-abfc-f2a354ccdcf4",
      "cell_type": "code",
      "source": "#custom encrypted and decrypted message\ndef encrypt(message, shift):\n    encrypted = \"\"\n    for char in message:\n        if char.isalpha():\n            shift_base = ord('A') if char.isupper() else ord('a')\n            encrypted += chr((ord(char) - shift_base + shift) % 26 + shift_base)\n        else:\n            encrypted += char\n    return encrypted\ndef decrypt(encrypted_message, shift):\n    return encrypt(encrypted_message, -shift)\n# Sample message\ntext = \"python developer\"\nshift_key = 3\nencrypted_text = encrypt(text, shift_key)\ndecrypted_text = decrypt(encrypted_text, shift_key)\nprint(f\"Original  : {text}\")\nprint(f\"Encrypted : {encrypted_text}\")\nprint(f\"Decrypted : {decrypted_text}\")\n",
      "metadata": {
        "trusted": true
      },
      "outputs": [
        {
          "name": "stdout",
          "output_type": "stream",
          "text": "Original  : python developer\nEncrypted : sbwkrq ghyhorshu\nDecrypted : python developer\n"
        }
      ],
      "execution_count": 54
    },
    {
      "id": "ff36ee96-13df-40d8-b268-4e9386b1f22f",
      "cell_type": "code",
      "source": "#custom encrypted and decrypted message\ndef encrypt(message, shift):\n    encrypted = \"\"\n    for char in message:\n        if char.isalpha():\n            shift_base = ord('A') if char.isupper() else ord('a')\n            encrypted += chr((ord(char) - shift_base + shift) % 26 + shift_base)\n        else:\n            encrypted += char\n    return encrypted\ndef decrypt(encrypted_message, shift):\n    return encrypt(encrypted_message, -shift)\n# Sample message\ntext = \"python developer\"\nshift_key = 3\nencrypted_text = encrypt(text, shift_key)\ndecrypted_text = decrypt(encrypted_text, shift_key)\nprint(f\"Original  : {text}\")\nprint(f\"Encrypted : {encrypted_text}\")\nprint(f\"Decrypted : {decrypted_text}\")\n",
      "metadata": {
        "trusted": true
      },
      "outputs": [
        {
          "name": "stdout",
          "output_type": "stream",
          "text": "Original  : python developer\nEncrypted : sbwkrq ghyhorshu\nDecrypted : python developer\n"
        }
      ],
      "execution_count": 55
    },
    {
      "id": "5782625f-a805-4480-9292-8061e0f28bf5",
      "cell_type": "code",
      "source": "",
      "metadata": {
        "trusted": true
      },
      "outputs": [],
      "execution_count": null
    }
  ]
}