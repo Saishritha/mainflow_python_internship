{
  "metadata": {
    "kernelspec": {
      "name": "python",
      "display_name": "Python (Pyodide)",
      "language": "python"
    },
    "language_info": {
      "codemirror_mode": {
        "name": "python",
        "version": 3
      },
      "file_extension": ".py",
      "mimetype": "text/x-python",
      "name": "python",
      "nbconvert_exporter": "python",
      "pygments_lexer": "ipython3",
      "version": "3.8"
    }
  },
  "nbformat_minor": 5,
  "nbformat": 4,
  "cells": [
    {
      "id": "5ed09a09-9367-4ed3-8591-28e789822415",
      "cell_type": "markdown",
      "source": "# 17.Table of a Number:",
      "metadata": {}
    },
    {
      "id": "8db07c29-ca1e-4df7-8027-68b1f61ae26c",
      "cell_type": "code",
      "source": "n = int(input(\"Display multiplication table of: \"))\nfor i in range(1, 11):\n    print(f\"{n} X {i} = {n*i}\")",
      "metadata": {
        "trusted": true
      },
      "outputs": [
        {
          "output_type": "stream",
          "name": "stdin",
          "text": "Display multiplication table of:  14\n"
        },
        {
          "name": "stdout",
          "output_type": "stream",
          "text": "14 X 1 = 14\n14 X 2 = 28\n14 X 3 = 42\n14 X 4 = 56\n14 X 5 = 70\n14 X 6 = 84\n14 X 7 = 98\n14 X 8 = 112\n14 X 9 = 126\n14 X 10 = 140\n"
        }
      ],
      "execution_count": 4
    },
    {
      "id": "d454716a-a323-425c-a3ae-929f86f4271f",
      "cell_type": "markdown",
      "source": "# 18.Swap two Numbers:",
      "metadata": {}
    },
    {
      "id": "441e6b7b-4590-4f6e-b89d-c0a4d0f181d1",
      "cell_type": "code",
      "source": "a = int(input(\"enter the first number a:\"))\nb = int(input(\"enter the second number b:\"))\na = a+b\nb = a-b\na = a-b\nprint(f\"after swapping:\\n a={a},b={b}\")",
      "metadata": {
        "trusted": true
      },
      "outputs": [
        {
          "output_type": "stream",
          "name": "stdin",
          "text": "enter the first number a: 5\nenter the second number b: 6\n"
        },
        {
          "name": "stdout",
          "output_type": "stream",
          "text": "after swapping:\n a=6,b=5\n"
        }
      ],
      "execution_count": 14
    },
    {
      "id": "61a3442f-244d-447e-98f3-3add924c8cc2",
      "cell_type": "markdown",
      "source": "# 19.Check Substring:",
      "metadata": {}
    },
    {
      "id": "1a62ee98-496e-48f0-8932-ac44da415864",
      "cell_type": "code",
      "source": "s1 = input(\"enter string s1:\")\ns2 = input(\"enter string s2:\")\nif s2 in s1:\n    print(\"True\")\nelse:\n    print(\"False\")",
      "metadata": {
        "trusted": true
      },
      "outputs": [
        {
          "output_type": "stream",
          "name": "stdin",
          "text": "enter string s1: everyday\nenter string s2: day\n"
        },
        {
          "name": "stdout",
          "output_type": "stream",
          "text": "True\n"
        }
      ],
      "execution_count": 16
    },
    {
      "id": "a86d8373-e256-447c-9f67-42388646eadd",
      "cell_type": "markdown",
      "source": "# 20.Decimal to Binary:",
      "metadata": {}
    },
    {
      "id": "010c55a5-fa5e-41de-b5e1-aa3256456606",
      "cell_type": "code",
      "source": "n = int(input(\"enter a decimal number:\"))\nbinary = bin(n)[2:]\nprint(\"binary number:\", binary)",
      "metadata": {
        "trusted": true
      },
      "outputs": [
        {
          "output_type": "stream",
          "name": "stdin",
          "text": "enter a decimal number: 14\n"
        },
        {
          "name": "stdout",
          "output_type": "stream",
          "text": "binary number: 1110\n"
        }
      ],
      "execution_count": 17
    },
    {
      "id": "b78b95da-9ef4-4623-a8a9-7533acbac243",
      "cell_type": "markdown",
      "source": "# 21.Matrix Addition:",
      "metadata": {}
    },
    {
      "id": "4cc91df3-58ff-4bef-87ff-83a98fa2e3f7",
      "cell_type": "code",
      "source": "A = [\n    [1, 2, 3],\n    [4, 5, 6],\n    [7, 8, 9]\n]\n\nB = [\n    [9, 8, 7],\n    [6, 5, 4],\n    [3, 2, 1]\n]\nrows = len(A)\ncols = len(A[0])\nresult = [[0 for _ in range(cols)] for _ in range(rows)]\n\nfor i in range(rows):\n    for j in range(cols):\n        result[i][j] = A[i][j] + B[i][j]\n\n# Output\nprint(\"Resultant Matrix (A + B):\")\nfor row in result:\n    print(row)",
      "metadata": {
        "trusted": true
      },
      "outputs": [
        {
          "name": "stdout",
          "output_type": "stream",
          "text": "Resultant Matrix (A + B):\n[10, 10, 10]\n[10, 10, 10]\n[10, 10, 10]\n"
        }
      ],
      "execution_count": 24
    },
    {
      "id": "ad19ec55-ce40-4e74-a792-b4c5f93f4b23",
      "cell_type": "markdown",
      "source": "# 22.Matrix Multiplication:",
      "metadata": {}
    },
    {
      "id": "92ebaca3-f15b-448c-9f4f-6cad7f42863c",
      "cell_type": "code",
      "source": "A = [\n    [1, 2, 3],\n    [4, 5, 6],\n    [7, 8, 9]\n]\n\nB = [\n    [9, 8, 7],\n    [6, 5, 4],\n    [3, 2, 1]\n]\n\nresult = [[0 for _ in range(3)] for _ in range(3)]\n\n\nfor i in range(3):        \n    for j in range(3):     \n        for k in range(3):  \n            result[i][j] += A[i][k] * B[k][j]\n\nprint(\"Product Matrix (A × B):\")\nfor row in result:\n    print(row)",
      "metadata": {
        "trusted": true
      },
      "outputs": [
        {
          "name": "stdout",
          "output_type": "stream",
          "text": "Product Matrix (A × B):\n[30, 24, 18]\n[84, 69, 54]\n[138, 114, 90]\n"
        }
      ],
      "execution_count": 25
    },
    {
      "id": "59676d5c-f1bd-42fb-9e2a-3147eff293bc",
      "cell_type": "markdown",
      "source": "# 23.Find Second Largest:",
      "metadata": {}
    },
    {
      "id": "0116d66e-0365-4d6f-aa08-a9a455d8dac7",
      "cell_type": "code",
      "source": "a = [1, 12, 4, 43, 19]\nmax1 = max2 = float('-inf')\nfor n in a:\n    if n > max1:\n        max2 = max1  \n        max1 = n     \n    elif n > max2 and n != max1:\n        max2 = n  \nprint(max2)",
      "metadata": {
        "trusted": true
      },
      "outputs": [
        {
          "name": "stdout",
          "output_type": "stream",
          "text": "19\n"
        }
      ],
      "execution_count": 27
    },
    {
      "id": "08799549-33a4-43c3-b4c2-10f0512da2f2",
      "cell_type": "markdown",
      "source": "# 24.Check Anagram:",
      "metadata": {}
    },
    {
      "id": "432df952-d7d9-485a-a3d1-8e2ee0163ea0",
      "cell_type": "code",
      "source": "from collections import Counter\ns1 = \"earth\"\ns2 = \"heart\"\nif len(s1) != len(s2):\n    print(\"No\")\nelse:\n    if Counter(s1) == Counter(s2):\n        print(\"Yes\")\n    else:\n        print(\"No\")",
      "metadata": {
        "trusted": true
      },
      "outputs": [
        {
          "name": "stdout",
          "output_type": "stream",
          "text": "Yes\n"
        }
      ],
      "execution_count": 29
    },
    {
      "id": "e88775a6-e3e0-47c1-bc73-4f683e787710",
      "cell_type": "markdown",
      "source": "# 3.AI-Based Tic-Tac-Toe:",
      "metadata": {}
    },
    {
      "id": "3253d931-8b43-4cd4-a4fd-52a459c7d517",
      "cell_type": "code",
      "source": "def show_board(board):\n    print()\n    for r in range(3):\n        print(\" | \".join(board[r*3:(r+1)*3]))\n        if r < 2:\n            print(\"--+---+--\")\n    print()\ndef check_winner(board):\n    wins = [\n        [0, 1, 2], [3, 4, 5], [6, 7, 8],  \n        [0, 3, 6], [1, 4, 7], [2, 5, 8],  \n        [0, 4, 8], [2, 4, 6]              \n    ]\n    for a, b, c in wins:\n        if board[a] == board[b] == board[c] != \" \":\n            return board[a]\n    if \" \" not in board:\n        return \"Draw\"\n    return None\n\ndef minimax(board, is_ai_turn, ai, human):\n    winner = check_winner(board)\n    if winner == ai:\n        return 1\n    elif winner == human:\n        return -1\n    elif winner == \"Draw\":\n        return 0\n\n    if is_ai_turn:\n        best_score = -999\n        for i in range(9):\n            if board[i] == \" \":\n                board[i] = ai\n                score = minimax(board, False, ai, human)\n                board[i] = \" \"\n                best_score = max(best_score, score)\n        return best_score\n    else:\n        best_score = 999\n        for i in range(9):\n            if board[i] == \" \":\n                board[i] = human\n                score = minimax(board, True, ai, human)\n                board[i] = \" \"\n                best_score = min(best_score, score)\n        return best_score\n\ndef find_best_move(board, ai, human):\n    best_score = -999\n    move = None\n    for i in range(9):\n        if board[i] == \" \":\n            board[i] = ai\n            score = minimax(board, False, ai, human)\n            board[i] = \" \"\n            if score > best_score:\n                best_score = score\n                move = i\n    return move\n\ndef play_game():\n    board = [\" \"] * 9\n    human = input(\"Choose X or O: \").upper()\n    while human not in [\"X\", \"O\"]:\n        human = input(\"Choose X or O: \").upper()\n    ai = \"O\" if human == \"X\" else \"X\"\n\n    first = input(\"Do you want to go first? (y/n): \").lower()\n    current = human if first == \"y\" else ai\n\n    show_board(board)\n\n    while True:\n        if current == human:\n            try:\n                row = int(input(\"Enter row (0-2): \"))\n                col = int(input(\"Enter column (0-2): \"))\n                if row not in [0, 1, 2] or col not in [0, 1, 2]:\n                    print(\"Row and column must be between 0 and 2.\")\n                    continue\n                pos = row * 3 + col\n                if board[pos] != \" \":\n                    print(\"That spot is already taken.\")\n                    continue\n                board[pos] = human\n            except ValueError:\n                print(\"Please enter valid integers.\")\n                continue\n        else:\n            print(\"AI is thinking...\")\n            pos = find_best_move(board, ai, human)\n            board[pos] = ai\n\n        show_board(board)\n        winner = check_winner(board)\n        if winner:\n            if winner == \"Draw\":\n                print(\"It's a draw!\")\n            else:\n                print(f\"{winner} wins!\")\n            break\n\n        current = ai if current == human else human\n\nplay_game()",
      "metadata": {
        "trusted": true
      },
      "outputs": [
        {
          "output_type": "stream",
          "name": "stdin",
          "text": "Choose X or O:  x\nDo you want to go first? (y/n):  y\n"
        },
        {
          "name": "stdout",
          "output_type": "stream",
          "text": "\n  |   |  \n--+---+--\n  |   |  \n--+---+--\n  |   |  \n\n"
        },
        {
          "output_type": "stream",
          "name": "stdin",
          "text": "Enter row (0-2):  1\nEnter column (0-2):  1\n"
        },
        {
          "name": "stdout",
          "output_type": "stream",
          "text": "\n  |   |  \n--+---+--\n  | X |  \n--+---+--\n  |   |  \n\nAI is thinking...\n\nO |   |  \n--+---+--\n  | X |  \n--+---+--\n  |   |  \n\n"
        },
        {
          "output_type": "stream",
          "name": "stdin",
          "text": "Enter row (0-2):  2\nEnter column (0-2):  0\n"
        },
        {
          "name": "stdout",
          "output_type": "stream",
          "text": "\nO |   |  \n--+---+--\n  | X |  \n--+---+--\nX |   |  \n\nAI is thinking...\n\nO |   | O\n--+---+--\n  | X |  \n--+---+--\nX |   |  \n\n"
        },
        {
          "output_type": "stream",
          "name": "stdin",
          "text": "Enter row (0-2):  0\nEnter column (0-2):  1\n"
        },
        {
          "name": "stdout",
          "output_type": "stream",
          "text": "\nO | X | O\n--+---+--\n  | X |  \n--+---+--\nX |   |  \n\nAI is thinking...\n\nO | X | O\n--+---+--\n  | X |  \n--+---+--\nX | O |  \n\n"
        },
        {
          "output_type": "stream",
          "name": "stdin",
          "text": "Enter row (0-2):  1\nEnter column (0-2):  0\n"
        },
        {
          "name": "stdout",
          "output_type": "stream",
          "text": "\nO | X | O\n--+---+--\nX | X |  \n--+---+--\nX | O |  \n\nAI is thinking...\n\nO | X | O\n--+---+--\nX | X | O\n--+---+--\nX | O |  \n\n"
        },
        {
          "output_type": "stream",
          "name": "stdin",
          "text": "Enter row (0-2):  2\nEnter column (0-2):  2\n"
        },
        {
          "name": "stdout",
          "output_type": "stream",
          "text": "\nO | X | O\n--+---+--\nX | X | O\n--+---+--\nX | O | X\n\nIt's a draw!\n"
        }
      ],
      "execution_count": 3
    },
    {
      "id": "f15daf02-8b14-4cfd-8113-fe9efe19d617",
      "cell_type": "code",
      "source": "",
      "metadata": {
        "trusted": true
      },
      "outputs": [],
      "execution_count": null
    }
  ]
}