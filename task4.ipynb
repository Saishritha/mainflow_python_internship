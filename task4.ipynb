{
  "metadata": {
    "kernelspec": {
      "name": "python",
      "display_name": "Python (Pyodide)",
      "language": "python"
    },
    "language_info": {
      "codemirror_mode": {
        "name": "python",
        "version": 3
      },
      "file_extension": ".py",
      "mimetype": "text/x-python",
      "name": "python",
      "nbconvert_exporter": "python",
      "pygments_lexer": "ipython3",
      "version": "3.8"
    }
  },
  "nbformat_minor": 5,
  "nbformat": 4,
  "cells": [
    {
      "id": "08de3d56-e46b-4782-8942-93011efa0beb",
      "cell_type": "markdown",
      "source": "# 25.Find Missing Number:",
      "metadata": {}
    },
    {
      "id": "8bb32ca4-ac89-4062-84fe-a42751df7f3f",
      "cell_type": "code",
      "source": "def missing_number(arr):\n    n = len(arr)  \n    a = (n + 1) * (n + 2) // 2 #expected sum\n    b = sum(arr) #actual sum\n    return a - b\n\narr = [1, 2, 3, 5, 6] \nprint(missing_number(arr)) \n",
      "metadata": {
        "trusted": true
      },
      "outputs": [
        {
          "name": "stdout",
          "output_type": "stream",
          "text": "4\n"
        }
      ],
      "execution_count": 4
    },
    {
      "id": "a4e18045-eb24-4162-ac33-55ed3f0ed455",
      "cell_type": "markdown",
      "source": "# 26.Check Balanced Paranthesis:",
      "metadata": {}
    },
    {
      "id": "0d6ddfaa-f8b5-4da4-a534-46860774cf1d",
      "cell_type": "code",
      "source": "def balanced(s: str) -> bool:\n    stack = []\n    pairs = {')': '(', '}': '{', ']': '['}\n\n    for char in s:\n        if char in \"({[\": \n            stack.append(char)\n        elif char in \")}]\":\n            if not stack or stack[-1] != pairs[char]:\n                return False\n            stack.pop()  \n    return len(stack) == 0  \n    \nprint(balanced(\"({})\"))       \nprint(balanced(\"({[]})\"))    \nprint(balanced(\"(]\"))        \nprint(balanced(\"([(\"))       \n",
      "metadata": {
        "trusted": true
      },
      "outputs": [
        {
          "name": "stdout",
          "output_type": "stream",
          "text": "True\nTrue\nFalse\nFalse\n"
        }
      ],
      "execution_count": 7
    },
    {
      "id": "a5ca51f9-a30b-4c3c-a19f-a8f512ed5d03",
      "cell_type": "markdown",
      "source": "# 27.Longest Word in a Sentence:",
      "metadata": {}
    },
    {
      "id": "0563ca00-68fb-40e3-bbd0-7a64cce7bad6",
      "cell_type": "code",
      "source": "def longestword(sentence: str) -> str:\n    words = sentence.split()\n    longest = words[0]\n    for word in words:\n        if len(word) > len(longest):\n            longest = word\n\n    return longest\nprint(longestword(\"I am a Python programmer\"))\n",
      "metadata": {
        "trusted": true
      },
      "outputs": [
        {
          "name": "stdout",
          "output_type": "stream",
          "text": "programmer\n"
        }
      ],
      "execution_count": 10
    },
    {
      "id": "efbbf586-1765-43ba-879d-cb34802a5d8f",
      "cell_type": "markdown",
      "source": "# 28.Count Words in a Sentence:",
      "metadata": {}
    },
    {
      "id": "2c610ac6-e075-4e62-a94a-120fe198a3a9",
      "cell_type": "code",
      "source": "def count_words(sentence: str) -> int:\n    words = sentence.split()\n    return len(words)\nprint(count_words(\"count words in sentence\"))         ",
      "metadata": {
        "trusted": true
      },
      "outputs": [
        {
          "name": "stdout",
          "output_type": "stream",
          "text": "4\n"
        }
      ],
      "execution_count": 12
    },
    {
      "id": "6c176b69-31bb-4857-91bd-ee9d94fb8f8d",
      "cell_type": "markdown",
      "source": "# 29.Checking Pythagorean Triplet:",
      "metadata": {}
    },
    {
      "id": "64ec38cf-9958-43d8-ba14-17f171117e4c",
      "cell_type": "code",
      "source": "def pythagorean_triplet(a: int, b: int, c: int) -> bool:\n    sides = sorted([a, b, c])\n    x, y, z = sides \n    return x**2 + y**2 == z**2\nprint(pythagorean_triplet(3, 4, 5))   \nprint(pythagorean_triplet(2,3, 4)) ",
      "metadata": {
        "trusted": true
      },
      "outputs": [
        {
          "name": "stdout",
          "output_type": "stream",
          "text": "True\nFalse\n"
        }
      ],
      "execution_count": 13
    },
    {
      "id": "eb2b7336-f1c5-4157-b894-46b87e7be380",
      "cell_type": "markdown",
      "source": "# 30.Bubble Sort:",
      "metadata": {}
    },
    {
      "id": "f91fa627-7994-4946-8278-08da28fd5b9b",
      "cell_type": "code",
      "source": "def bubble_sort(arr: list) -> list:\n    n = len(arr)\n    for i in range(n):\n        for j in range(0, n - i - 1):\n            if arr[j] > arr[j + 1]:\n                arr[j], arr[j + 1] = arr[j + 1], arr[j]\n    return arr\nprint(bubble_sort([64, 34, 25, 12, 22, 11, 90]))",
      "metadata": {
        "trusted": true
      },
      "outputs": [
        {
          "name": "stdout",
          "output_type": "stream",
          "text": "[11, 12, 22, 25, 34, 64, 90]\n"
        }
      ],
      "execution_count": 14
    },
    {
      "id": "d92c2c5f-48cb-458a-85fc-1cac573e7036",
      "cell_type": "markdown",
      "source": "# 31.Binary Search:",
      "metadata": {}
    },
    {
      "id": "ac290052-62c7-46dc-b1b5-ae7a490eafa7",
      "cell_type": "code",
      "source": "def binary_search(arr: list, target: int) -> int:\n    left, right = 0, len(arr) - 1\n    while left <= right:\n        mid = (left + right) // 2 \n        if arr[mid] == target:\n            return mid  \n        elif arr[mid] < target:\n            left = mid + 1 \n        else:\n            right = mid - 1 \n    return -1 \nnumbers = [1, 3, 5, 7, 9, 11, 13]\nprint(binary_search(numbers, 7))  \nprint(binary_search(numbers, 4))  \n",
      "metadata": {
        "trusted": true
      },
      "outputs": [
        {
          "name": "stdout",
          "output_type": "stream",
          "text": "3\n-1\n"
        }
      ],
      "execution_count": 15
    },
    {
      "id": "be24f73a-e722-45ef-9d78-3e0933edbc36",
      "cell_type": "markdown",
      "source": "# 32.Find Subarray with Given Sum:",
      "metadata": {}
    },
    {
      "id": "bea047f7-496b-454c-b90f-16c224b558f2",
      "cell_type": "code",
      "source": "def subarray_sum(arr: list, S: int):\n    left, current_sum = 0, 0\n    for right in range(len(arr)):\n        current_sum += arr[right]\n        while current_sum > S and left <= right:\n            current_sum -= arr[left]\n            left += 1\n        if current_sum == S:\n            return (left, right) \n    return -1 \nprint(subarray_sum([1, 4], 0))\n",
      "metadata": {
        "trusted": true
      },
      "outputs": [
        {
          "name": "stdout",
          "output_type": "stream",
          "text": "(1, 0)\n"
        }
      ],
      "execution_count": 20
    },
    {
      "id": "b259236b-d665-4011-8f5d-515515e292e3",
      "cell_type": "markdown",
      "source": "# 4.Log Analysis System:",
      "metadata": {}
    },
    {
      "id": "77c86864-5c0f-43f9-a149-4fb65ae783c7",
      "cell_type": "code",
      "source": "log_data = \"\"\"192.168.1.1 - - [21/Aug/2025:10:00:00] \"GET /index.html\" 200\n192.168.1.2 - - [21/Aug/2025:10:01:00] \"POST /login\" 500 ERROR\n192.168.1.1 - - [21/Aug/2025:10:02:00] \"GET /about.html\" 200\n192.168.1.3 - - [21/Aug/2025:10:03:00] \"GET /home\" 404 ERROR\n192.168.1.1 - - [21/Aug/2025:10:04:00] \"GET /contact.html\" 200\n\"\"\"\n\n# Creates sample.log file\nwith open(\"sample.log\", \"w\") as f:\n    f.write(log_data)\n\nprint(\"sample.log file created successfully!\")\n",
      "metadata": {
        "trusted": true
      },
      "outputs": [
        {
          "name": "stdout",
          "output_type": "stream",
          "text": "sample.log file created successfully!\n"
        }
      ],
      "execution_count": 30
    },
    {
      "id": "52f6ae7d-d18c-4363-a4c4-ac8d8840527e",
      "cell_type": "code",
      "source": "def analyze_log(file_path: str):\n    ip_counts = {}\n    error_count = 0\n    total_lines = 0\n    with open(file_path, \"r\", encoding=\"utf-8\") as f:\n        for line in f:\n            total_lines += 1\n            parts = line.split()\n            if parts:\n                ip = parts[0]\n                ip_counts[ip] = ip_counts.get(ip, 0) + 1\n            if \"ERROR\" in line:\n                error_count += 1\n    print(f\"Total lines processed: {total_lines}\")\n    print(f\"Total ERROR entries: {error_count}\")\n    print(\"\\nTop 5 IP addresses:\")\n    for ip, count in sorted(ip_counts.items(), key=lambda x: x[1], reverse=True)[:5]:\n        print(f\"{ip} → {count} times\")\n",
      "metadata": {
        "trusted": true
      },
      "outputs": [],
      "execution_count": 24
    },
    {
      "id": "8e938a13-d222-44b0-8607-ca3562ae8554",
      "cell_type": "code",
      "source": "analyze_log(\"sample.log\")",
      "metadata": {
        "trusted": true
      },
      "outputs": [
        {
          "name": "stdout",
          "output_type": "stream",
          "text": "Total lines processed: 5\nTotal ERROR entries: 2\n\nTop 5 IP addresses:\n192.168.1.1 → 3 times\n192.168.1.2 → 1 times\n192.168.1.3 → 1 times\n"
        }
      ],
      "execution_count": 31
    }
  ]
}